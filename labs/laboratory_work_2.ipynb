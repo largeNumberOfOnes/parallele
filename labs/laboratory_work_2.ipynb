{
 "cells": [
  {
   "cell_type": "code",
   "execution_count": 2,
   "metadata": {},
   "outputs": [],
   "source": [
    "import matplotlib.pyplot as plt\n",
    "import numpy as np"
   ]
  },
  {
   "cell_type": "code",
   "execution_count": 12,
   "metadata": {},
   "outputs": [
    {
     "name": "stdout",
     "output_type": "stream",
     "text": [
      "S = [1.         0.48699878 0.61680517 0.73112003 0.87510917 1.38016529\n",
      " 1.12647555 1.25015596 1.65074135 1.50903614 1.56440281 1.80703336\n",
      " 1.7594381  2.13646055 2.11169652 2.04281346 2.14331551 2.0875\n",
      " 2.13646055 2.35487662]\n",
      "E = [1.         1.02669661 0.54041916 0.34194112 0.22854291 0.12075848\n",
      " 0.12681779 0.09998752 0.06730982 0.06626747 0.05811105 0.0461161\n",
      " 0.04372025 0.03343313 0.03157019 0.03059506 0.02744511 0.02661344\n",
      " 0.02463494 0.02123253]\n"
     ]
    }
   ],
   "source": [
    "t = [\n",
    "    2004,\n",
    "    4115,\n",
    "    3249,\n",
    "    2741,\n",
    "    2290,\n",
    "    1452,\n",
    "    1779,\n",
    "    1603,\n",
    "    1214,\n",
    "    1328,\n",
    "    1281,\n",
    "    1109,\n",
    "    1139,\n",
    "    938,\n",
    "    949,\n",
    "    981,\n",
    "    935,\n",
    "    960,\n",
    "    938,\n",
    "    851,\n",
    "]\n",
    "t = np.array(t)\n",
    "t = t[0] / t\n",
    "print('S =', t)\n",
    "print('E =', t[0]/np.arange(1, len(t)+1)/t)"
   ]
  },
  {
   "cell_type": "code",
   "execution_count": null,
   "metadata": {},
   "outputs": [],
   "source": []
  },
  {
   "cell_type": "code",
   "execution_count": null,
   "metadata": {},
   "outputs": [],
   "source": []
  }
 ],
 "metadata": {
  "kernelspec": {
   "display_name": "Python 3",
   "language": "python",
   "name": "python3"
  },
  "language_info": {
   "codemirror_mode": {
    "name": "ipython",
    "version": 3
   },
   "file_extension": ".py",
   "mimetype": "text/x-python",
   "name": "python",
   "nbconvert_exporter": "python",
   "pygments_lexer": "ipython3",
   "version": "3.11.2"
  }
 },
 "nbformat": 4,
 "nbformat_minor": 2
}
