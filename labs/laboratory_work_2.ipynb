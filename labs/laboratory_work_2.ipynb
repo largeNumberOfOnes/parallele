{
 "cells": [
  {
   "cell_type": "code",
   "execution_count": 2,
   "metadata": {},
   "outputs": [],
   "source": [
    "import matplotlib.pyplot as plt\n",
    "import numpy as np"
   ]
  },
  {
   "cell_type": "code",
   "execution_count": 6,
   "metadata": {},
   "outputs": [
    {
     "name": "stdout",
     "output_type": "stream",
     "text": [
      "S = [1.         1.94507898 2.46352724 2.92010215 3.49519651 5.51239669]\n",
      "E = [1.         0.97253949 0.82117575 0.73002554 0.6990393  0.91873278]\n"
     ]
    }
   ],
   "source": [
    "t = [\n",
    "    8004,\n",
    "    4115,\n",
    "    3249,\n",
    "    2741,\n",
    "    2290,\n",
    "    1452,\n",
    "    1779,\n",
    "    1603,\n",
    "    1214,\n",
    "    1328,\n",
    "    1281,\n",
    "    1109,\n",
    "    1139,\n",
    "    938,\n",
    "    949,\n",
    "    981,\n",
    "    935,\n",
    "    960,\n",
    "    938,\n",
    "    851,\n",
    "]\n",
    "t = np.array(t[:6])\n",
    "print('S =', t[0] / t)\n",
    "print('E =', t[0]/np.arange(1, len(t)+1)/t)"
   ]
  },
  {
   "cell_type": "code",
   "execution_count": null,
   "metadata": {},
   "outputs": [],
   "source": []
  },
  {
   "cell_type": "code",
   "execution_count": null,
   "metadata": {},
   "outputs": [],
   "source": []
  }
 ],
 "metadata": {
  "kernelspec": {
   "display_name": "Python 3",
   "language": "python",
   "name": "python3"
  },
  "language_info": {
   "codemirror_mode": {
    "name": "ipython",
    "version": 3
   },
   "file_extension": ".py",
   "mimetype": "text/x-python",
   "name": "python",
   "nbconvert_exporter": "python",
   "pygments_lexer": "ipython3",
   "version": "3.11.2"
  }
 },
 "nbformat": 4,
 "nbformat_minor": 2
}
