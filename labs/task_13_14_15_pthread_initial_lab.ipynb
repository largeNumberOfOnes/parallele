{
 "cells": [
  {
   "cell_type": "markdown",
   "metadata": {},
   "source": [
    "task_13_pthread_hello_world.c\n",
    "```bash\n",
    "Hello to procs 0, 2, 3, 4, 5, 6!!! I am proc with rank 1!\n",
    "Hello to procs 0, 1, 3, 4, 5, 6!!! I am proc with rank 2!\n",
    "Hello to procs 0, 1, 2, 4, 5, 6!!! I am proc with rank 3!\n",
    "Hello to procs 0, 1, 2, 3, 4, 6!!! I am proc with rank 5!\n",
    "Hello to procs 0, 1, 2, 3, 5, 6!!! I am proc with rank 4!\n",
    "Hello to procs 1, 2, 3, 4, 5, 6!!! I am proc with rank 0!\n",
    "```\n"
   ]
  },
  {
   "cell_type": "markdown",
   "metadata": {},
   "source": [
    "task_14_pthread_sum.c\n",
    "```bash\n",
    "sum from 1 to 1/177 is 5.756188.\n",
    "```"
   ]
  },
  {
   "cell_type": "markdown",
   "metadata": {},
   "source": [
    "task_15_pthread_circular_shipping.c\n",
    "```bash\n",
    "1 -> var: 0 to 7\n",
    "2 -> var: 7 to 14\n",
    "5 -> var: 14 to 21\n",
    "3 -> var: 21 to 28\n",
    "0 -> var: 28 to 35\n",
    "4 -> var: 35 to 42\n",
    "6 -> var: 42 to 49\n",
    "```"
   ]
  }
 ],
 "metadata": {
  "kernelspec": {
   "display_name": "Python 3",
   "language": "python",
   "name": "python3"
  },
  "language_info": {
   "codemirror_mode": {
    "name": "ipython",
    "version": 3
   },
   "file_extension": ".py",
   "mimetype": "text/x-python",
   "name": "python",
   "nbconvert_exporter": "python",
   "pygments_lexer": "ipython3",
   "version": "3.11.2"
  }
 },
 "nbformat": 4,
 "nbformat_minor": 2
}
