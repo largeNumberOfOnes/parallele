{
 "cells": [
  {
   "cell_type": "code",
   "execution_count": null,
   "metadata": {},
   "outputs": [],
   "source": [
    "# Here we have collected data on the dependence of the exponent\n",
    "#    calculation time on the number of processes and the number of digits"
   ]
  },
  {
   "cell_type": "code",
   "execution_count": null,
   "metadata": {},
   "outputs": [],
   "source": [
    "import pandas as pd"
   ]
  },
  {
   "cell_type": "code",
   "execution_count": 7,
   "metadata": {},
   "outputs": [
    {
     "data": {
      "text/html": [
       "<div>\n",
       "<style scoped>\n",
       "    .dataframe tbody tr th:only-of-type {\n",
       "        vertical-align: middle;\n",
       "    }\n",
       "\n",
       "    .dataframe tbody tr th {\n",
       "        vertical-align: top;\n",
       "    }\n",
       "\n",
       "    .dataframe thead th {\n",
       "        text-align: right;\n",
       "    }\n",
       "</style>\n",
       "<table border=\"1\" class=\"dataframe\">\n",
       "  <thead>\n",
       "    <tr style=\"text-align: right;\">\n",
       "      <th></th>\n",
       "      <th>digits</th>\n",
       "      <th>n = 1</th>\n",
       "      <th>n = 2</th>\n",
       "      <th>n = 3</th>\n",
       "      <th>n = 4</th>\n",
       "      <th>n = 5</th>\n",
       "      <th>n = 6</th>\n",
       "      <th>n = 7</th>\n",
       "      <th>n = 8</th>\n",
       "    </tr>\n",
       "  </thead>\n",
       "  <tbody>\n",
       "    <tr>\n",
       "      <th>0</th>\n",
       "      <td>300</td>\n",
       "      <td>0.000544</td>\n",
       "      <td>0.000478</td>\n",
       "      <td>0.000505</td>\n",
       "      <td>0.000586</td>\n",
       "      <td>0.000615</td>\n",
       "      <td>0.000620</td>\n",
       "      <td>0.004083</td>\n",
       "      <td>0.001147</td>\n",
       "    </tr>\n",
       "    <tr>\n",
       "      <th>1</th>\n",
       "      <td>3000</td>\n",
       "      <td>0.008348</td>\n",
       "      <td>0.006484</td>\n",
       "      <td>0.005534</td>\n",
       "      <td>0.005812</td>\n",
       "      <td>0.005594</td>\n",
       "      <td>0.005938</td>\n",
       "      <td>0.006376</td>\n",
       "      <td>0.008077</td>\n",
       "    </tr>\n",
       "    <tr>\n",
       "      <th>2</th>\n",
       "      <td>30000</td>\n",
       "      <td>0.585243</td>\n",
       "      <td>0.462652</td>\n",
       "      <td>0.403780</td>\n",
       "      <td>0.405915</td>\n",
       "      <td>0.428871</td>\n",
       "      <td>0.463749</td>\n",
       "      <td>0.508950</td>\n",
       "      <td>0.553150</td>\n",
       "    </tr>\n",
       "    <tr>\n",
       "      <th>3</th>\n",
       "      <td>300000</td>\n",
       "      <td>46.171205</td>\n",
       "      <td>38.048726</td>\n",
       "      <td>34.969125</td>\n",
       "      <td>36.351624</td>\n",
       "      <td>39.536450</td>\n",
       "      <td>43.696600</td>\n",
       "      <td>48.446795</td>\n",
       "      <td>53.487147</td>\n",
       "    </tr>\n",
       "  </tbody>\n",
       "</table>\n",
       "</div>"
      ],
      "text/plain": [
       "   digits      n = 1      n = 2      n = 3      n = 4      n = 5      n = 6  \\\n",
       "0     300   0.000544   0.000478   0.000505   0.000586   0.000615   0.000620   \n",
       "1    3000   0.008348   0.006484   0.005534   0.005812   0.005594   0.005938   \n",
       "2   30000   0.585243   0.462652   0.403780   0.405915   0.428871   0.463749   \n",
       "3  300000  46.171205  38.048726  34.969125  36.351624  39.536450  43.696600   \n",
       "\n",
       "       n = 7      n = 8  \n",
       "0   0.004083   0.001147  \n",
       "1   0.006376   0.008077  \n",
       "2   0.508950   0.553150  \n",
       "3  48.446795  53.487147  "
      ]
     },
     "execution_count": 7,
     "metadata": {},
     "output_type": "execute_result"
    }
   ],
   "source": [
    "data = pd.DataFrame([\n",
    "    [300,    0.000544, 0.000478, 0.000505, 0.000586, 0.000615, 0.000620, 0.004083, 0.001147],\n",
    "    [3000,   0.008348, 0.006484, 0.005534, 0.005812, 0.005594, 0.005938, 0.006376, 0.008077],\n",
    "    [30000,  0.585243, 0.462652, 0.403780, 0.405915, 0.428871, 0.463749, 0.508950, 0.553150],\n",
    "    [300000, 46.171205, 38.048726, 34.969125, 36.351624, 39.536450, 43.696600, 48.446795, 53.487147],\n",
    "])\n",
    "data.columns = ['digits'] + [f'n = {q}' for q in range(1, 9)]\n",
    "data"
   ]
  },
  {
   "cell_type": "code",
   "execution_count": null,
   "metadata": {},
   "outputs": [],
   "source": []
  }
 ],
 "metadata": {
  "kernelspec": {
   "display_name": "usr",
   "language": "python",
   "name": "python3"
  },
  "language_info": {
   "codemirror_mode": {
    "name": "ipython",
    "version": 3
   },
   "file_extension": ".py",
   "mimetype": "text/x-python",
   "name": "python",
   "nbconvert_exporter": "python",
   "pygments_lexer": "ipython3",
   "version": "3.11.2"
  }
 },
 "nbformat": 4,
 "nbformat_minor": 2
}
