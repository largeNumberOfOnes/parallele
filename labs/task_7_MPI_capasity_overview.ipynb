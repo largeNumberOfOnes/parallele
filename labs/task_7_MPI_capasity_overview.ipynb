{
 "cells": [
  {
   "cell_type": "markdown",
   "metadata": {},
   "source": [
    "Run 2 subproc by MPI_Comm_spawn on 4 procs\n",
    "```bash\n",
    "hi\n",
    "hi\n",
    "hi\n",
    "hi\n",
    "hi\n",
    "hi\n",
    "Spawn completed\n",
    "Spawn completed\n",
    "Spawn completed\n",
    "Spawn completed\n",
    "hi\n",
    "hi\n",
    "```"
   ]
  },
  {
   "cell_type": "code",
   "execution_count": null,
   "metadata": {},
   "outputs": [],
   "source": []
  }
 ],
 "metadata": {
  "language_info": {
   "name": "python"
  }
 },
 "nbformat": 4,
 "nbformat_minor": 2
}
